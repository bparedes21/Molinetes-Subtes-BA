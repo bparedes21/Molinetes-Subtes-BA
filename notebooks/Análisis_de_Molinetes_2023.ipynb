{
 "cells": [
  {
   "cell_type": "code",
   "execution_count": 2,
   "metadata": {},
   "outputs": [],
   "source": [
    "from datetime import datetime\n",
    "import pandas as pd\n",
    "import time\n",
    "import numpy as np"
   ]
  },
  {
   "cell_type": "code",
   "execution_count": 3,
   "metadata": {},
   "outputs": [],
   "source": [
    "from transformacion_datos import ejecutar_transformacion_y_unificacion_de_dataframes"
   ]
  },
  {
   "cell_type": "code",
   "execution_count": 4,
   "metadata": {},
   "outputs": [
    {
     "name": "stdout",
     "output_type": "stream",
     "text": [
      "molinetes-2023/202301_PAX15min-ABC.csv\n",
      "0\n",
      "primer (589514, 13)\n",
      "molinetes-2023/202301_PAX15min-DEH.csv\n",
      "1\n",
      "!=0 (1033967, 13)\n",
      "molinetes-2023/202302_PAX15min-ABC.csv\n",
      "2\n",
      "!=0 (1555803, 13)\n",
      "molinetes-2023/202302_PAX15min-DEH.csv\n",
      "3\n",
      "!=0 (1949108, 13)\n",
      "molinetes-2023/202303_PAX15min-ABC.csv\n",
      "4\n",
      "!=0 (2523333, 13)\n",
      "molinetes-2023/202303_PAX15min-DEH.csv\n",
      "5\n",
      "!=0 (2974798, 13)\n",
      "molinetes-2023/202304_PAX15min-ABC.csv\n",
      "6\n",
      "!=0 (3490856, 13)\n",
      "molinetes-2023/202304_PAX15min-DEH.csv\n",
      "7\n",
      "!=0 (3909038, 13)\n",
      "molinetes-2023/202305_PAX15min-ABC.csv\n",
      "8\n",
      "!=0 (4462528, 13)\n",
      "molinetes-2023/202305_PAX15min-DEH.csv\n",
      "9\n",
      "!=0 (4889118, 13)\n",
      "molinetes-2023/202306_PAX15min-ABC.csv\n",
      "10\n",
      "!=0 (5462553, 13)\n",
      "molinetes-2023/202306_PAX15min-DEH.csv\n",
      "11\n",
      "!=0 (5888260, 13)\n",
      "molinetes-2023/202307_PAX15min-ABC.csv\n",
      "12\n",
      "!=0 (6486628, 13)\n",
      "molinetes-2023/202307_PAX15min-DEH.csv\n",
      "13\n",
      "!=0 (6927088, 13)\n",
      "molinetes-2023/202308_PAX15min-ABC.csv\n",
      "14\n",
      "!=0 (7512311, 13)\n",
      "molinetes-2023/202308_PAX15min-DEH.csv\n",
      "15\n",
      "!=0 (7948618, 13)\n",
      "molinetes-2023/202309_PAX15min-ABC.csv\n",
      "16\n",
      "!=0 (8527160, 13)\n",
      "molinetes-2023/202309_PAX15min-DEH.csv\n",
      "17\n",
      "!=0 (8966895, 13)\n",
      "molinetes-2023/202310_PAX15min-ABC.csv\n",
      "18\n",
      "!=0 (9544889, 13)\n",
      "molinetes-2023/202310_PAX15min-DEH.csv\n",
      "19\n",
      "!=0 (9989693, 13)\n",
      "Forma del DataFrame final: (0, 0)\n",
      "Tiempo de ejecución: 915.8418307304382 segundos\n"
     ]
    }
   ],
   "source": [
    "carpeta = 'molinetes-2023/'\n",
    "\n",
    "start_time = time.time()\n",
    "\n",
    "# Llamar a la función para crear el DataFrame\n",
    "ejecutar_transformacion_y_unificacion_de_dataframes(carpeta)\n",
    "\n",
    "# Medir el tiempo de finalización\n",
    "end_time = time.time()\n",
    "\n",
    "# Calcular la diferencia de tiempo\n",
    "execution_time = end_time - start_time\n",
    "\n",
    "# Imprimir el tiempo de ejecución\n",
    "print(f\"Tiempo de ejecución: {execution_time} segundos\")\n",
    "\n"
   ]
  },
  {
   "cell_type": "code",
   "execution_count": 9,
   "metadata": {},
   "outputs": [],
   "source": [
    "dataframes_lineas=pd.read_csv('df_final_name.csv',sep=\",\")\n"
   ]
  },
  {
   "cell_type": "code",
   "execution_count": 11,
   "metadata": {},
   "outputs": [
    {
     "data": {
      "text/html": [
       "<div>\n",
       "<style scoped>\n",
       "    .dataframe tbody tr th:only-of-type {\n",
       "        vertical-align: middle;\n",
       "    }\n",
       "\n",
       "    .dataframe tbody tr th {\n",
       "        vertical-align: top;\n",
       "    }\n",
       "\n",
       "    .dataframe thead th {\n",
       "        text-align: right;\n",
       "    }\n",
       "</style>\n",
       "<table border=\"1\" class=\"dataframe\">\n",
       "  <thead>\n",
       "    <tr style=\"text-align: right;\">\n",
       "      <th></th>\n",
       "      <th>FECHA</th>\n",
       "      <th>DESDE</th>\n",
       "      <th>HASTA</th>\n",
       "      <th>LINEA</th>\n",
       "      <th>MOLINETE</th>\n",
       "      <th>ESTACION</th>\n",
       "      <th>pax_pagos</th>\n",
       "      <th>pax_pases_pagos</th>\n",
       "      <th>pax_franq</th>\n",
       "      <th>pax_TOTAL</th>\n",
       "      <th>RANGO</th>\n",
       "      <th>HORA</th>\n",
       "      <th>HORA_RANGO</th>\n",
       "    </tr>\n",
       "  </thead>\n",
       "  <tbody>\n",
       "    <tr>\n",
       "      <th>0</th>\n",
       "      <td>1/1/2023</td>\n",
       "      <td>07:45:00</td>\n",
       "      <td>08:00:00</td>\n",
       "      <td>LineaB</td>\n",
       "      <td>LineaB_Alem_S_Turn04</td>\n",
       "      <td>Leandro N. Alem</td>\n",
       "      <td>0</td>\n",
       "      <td>0</td>\n",
       "      <td>2</td>\n",
       "      <td>2</td>\n",
       "      <td>07:45:00-08:00:00</td>\n",
       "      <td>1900-01-01 07:45:00</td>\n",
       "      <td>07:00:00</td>\n",
       "    </tr>\n",
       "  </tbody>\n",
       "</table>\n",
       "</div>"
      ],
      "text/plain": [
       "      FECHA     DESDE     HASTA   LINEA              MOLINETE  \\\n",
       "0  1/1/2023  07:45:00  08:00:00  LineaB  LineaB_Alem_S_Turn04   \n",
       "\n",
       "          ESTACION  pax_pagos  pax_pases_pagos  pax_franq  pax_TOTAL  \\\n",
       "0  Leandro N. Alem          0                0          2          2   \n",
       "\n",
       "               RANGO                 HORA HORA_RANGO  \n",
       "0  07:45:00-08:00:00  1900-01-01 07:45:00   07:00:00  "
      ]
     },
     "execution_count": 11,
     "metadata": {},
     "output_type": "execute_result"
    }
   ],
   "source": [
    "dataframes_lineas.head(1)"
   ]
  },
  {
   "cell_type": "code",
   "execution_count": 12,
   "metadata": {},
   "outputs": [
    {
     "data": {
      "text/plain": [
       "Index(['FECHA', 'DESDE', 'HASTA', 'LINEA', 'MOLINETE', 'ESTACION', 'pax_pagos',\n",
       "       'pax_pases_pagos', 'pax_franq', 'pax_TOTAL', 'RANGO', 'HORA',\n",
       "       'HORA_RANGO'],\n",
       "      dtype='object')"
      ]
     },
     "execution_count": 12,
     "metadata": {},
     "output_type": "execute_result"
    }
   ],
   "source": [
    "dataframes_lineas.columns"
   ]
  },
  {
   "cell_type": "code",
   "execution_count": 13,
   "metadata": {},
   "outputs": [
    {
     "name": "stdout",
     "output_type": "stream",
     "text": [
      "<class 'pandas.core.frame.DataFrame'>\n",
      "RangeIndex: 9989693 entries, 0 to 9989692\n",
      "Data columns (total 13 columns):\n",
      " #   Column           Dtype \n",
      "---  ------           ----- \n",
      " 0   FECHA            object\n",
      " 1   DESDE            object\n",
      " 2   HASTA            object\n",
      " 3   LINEA            object\n",
      " 4   MOLINETE         object\n",
      " 5   ESTACION         object\n",
      " 6   pax_pagos        int64 \n",
      " 7   pax_pases_pagos  int64 \n",
      " 8   pax_franq        int64 \n",
      " 9   pax_TOTAL        int64 \n",
      " 10  RANGO            object\n",
      " 11  HORA             object\n",
      " 12  HORA_RANGO       object\n",
      "dtypes: int64(4), object(9)\n",
      "memory usage: 990.8+ MB\n"
     ]
    }
   ],
   "source": [
    "dataframes_lineas.info()"
   ]
  },
  {
   "cell_type": "code",
   "execution_count": 14,
   "metadata": {},
   "outputs": [
    {
     "data": {
      "text/plain": [
       "FECHA              0\n",
       "DESDE              0\n",
       "HASTA              0\n",
       "LINEA              0\n",
       "MOLINETE           0\n",
       "ESTACION           0\n",
       "pax_pagos          0\n",
       "pax_pases_pagos    0\n",
       "pax_franq          0\n",
       "pax_TOTAL          0\n",
       "RANGO              0\n",
       "HORA               0\n",
       "HORA_RANGO         0\n",
       "dtype: int64"
      ]
     },
     "execution_count": 14,
     "metadata": {},
     "output_type": "execute_result"
    }
   ],
   "source": [
    "dataframes_lineas.isnull().sum()"
   ]
  }
 ],
 "metadata": {
  "kernelspec": {
   "display_name": "etl_super",
   "language": "python",
   "name": "python3"
  },
  "language_info": {
   "codemirror_mode": {
    "name": "ipython",
    "version": 3
   },
   "file_extension": ".py",
   "mimetype": "text/x-python",
   "name": "python",
   "nbconvert_exporter": "python",
   "pygments_lexer": "ipython3",
   "version": "3.11.5"
  }
 },
 "nbformat": 4,
 "nbformat_minor": 2
}
